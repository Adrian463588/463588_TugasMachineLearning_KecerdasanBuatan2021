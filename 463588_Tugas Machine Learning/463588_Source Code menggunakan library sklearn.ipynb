{
 "cells": [
  {
   "cell_type": "markdown",
   "metadata": {},
   "source": [
    "### PEMBUATAN MACHINE LEARNING\n",
    "### Adrian Syah Abidin\n",
    "### 20/463588/TK/51580"
   ]
  },
  {
   "cell_type": "code",
   "execution_count": 196,
   "metadata": {},
   "outputs": [],
   "source": [
    "# menanmbahkan library yang dibutuhkan\n",
    "import pandas as pd\n",
    "import numpy as np\n",
    "import matplotlib.pyplot as plt\n",
    "from sklearn.cluster import KMeans"
   ]
  },
  {
   "cell_type": "code",
   "execution_count": 197,
   "metadata": {
    "scrolled": true
   },
   "outputs": [
    {
     "data": {
      "text/html": [
       "<div>\n",
       "<style scoped>\n",
       "    .dataframe tbody tr th:only-of-type {\n",
       "        vertical-align: middle;\n",
       "    }\n",
       "\n",
       "    .dataframe tbody tr th {\n",
       "        vertical-align: top;\n",
       "    }\n",
       "\n",
       "    .dataframe thead th {\n",
       "        text-align: right;\n",
       "    }\n",
       "</style>\n",
       "<table border=\"1\" class=\"dataframe\">\n",
       "  <thead>\n",
       "    <tr style=\"text-align: right;\">\n",
       "      <th></th>\n",
       "      <th>mcap</th>\n",
       "      <th>tvalue</th>\n",
       "    </tr>\n",
       "    <tr>\n",
       "      <th>emiten</th>\n",
       "      <th></th>\n",
       "      <th></th>\n",
       "    </tr>\n",
       "  </thead>\n",
       "  <tbody>\n",
       "    <tr>\n",
       "      <th>DSSA</th>\n",
       "      <td>18.32</td>\n",
       "      <td>0.344</td>\n",
       "    </tr>\n",
       "    <tr>\n",
       "      <th>BYAN</th>\n",
       "      <td>93.17</td>\n",
       "      <td>9.750</td>\n",
       "    </tr>\n",
       "    <tr>\n",
       "      <th>MEGA</th>\n",
       "      <td>58.26</td>\n",
       "      <td>0.495</td>\n",
       "    </tr>\n",
       "    <tr>\n",
       "      <th>ITMG</th>\n",
       "      <td>28.05</td>\n",
       "      <td>153.110</td>\n",
       "    </tr>\n",
       "    <tr>\n",
       "      <th>MLBI</th>\n",
       "      <td>16.86</td>\n",
       "      <td>0.681</td>\n",
       "    </tr>\n",
       "  </tbody>\n",
       "</table>\n",
       "</div>"
      ],
      "text/plain": [
       "         mcap   tvalue\n",
       "emiten                \n",
       "DSSA    18.32    0.344\n",
       "BYAN    93.17    9.750\n",
       "MEGA    58.26    0.495\n",
       "ITMG    28.05  153.110\n",
       "MLBI    16.86    0.681"
      ]
     },
     "execution_count": 197,
     "metadata": {},
     "output_type": "execute_result"
    }
   ],
   "source": [
    "# mengimport data set\n",
    "fileLocation = 'D:\\KULIAH SEM 3\\TUGAS AI\\Data_ML.xlsx'\n",
    "df = pd.read_excel(fileLocation, index_col = 0, header=2)\n",
    "df.head()"
   ]
  },
  {
   "cell_type": "code",
   "execution_count": 198,
   "metadata": {
    "scrolled": false
   },
   "outputs": [
    {
     "data": {
      "text/html": [
       "<div>\n",
       "<style scoped>\n",
       "    .dataframe tbody tr th:only-of-type {\n",
       "        vertical-align: middle;\n",
       "    }\n",
       "\n",
       "    .dataframe tbody tr th {\n",
       "        vertical-align: top;\n",
       "    }\n",
       "\n",
       "    .dataframe thead th {\n",
       "        text-align: right;\n",
       "    }\n",
       "</style>\n",
       "<table border=\"1\" class=\"dataframe\">\n",
       "  <thead>\n",
       "    <tr style=\"text-align: right;\">\n",
       "      <th></th>\n",
       "      <th>mcap</th>\n",
       "      <th>tvalue</th>\n",
       "    </tr>\n",
       "    <tr>\n",
       "      <th>emiten</th>\n",
       "      <th></th>\n",
       "      <th></th>\n",
       "    </tr>\n",
       "  </thead>\n",
       "  <tbody>\n",
       "    <tr>\n",
       "      <th>DSSA</th>\n",
       "      <td>18.320</td>\n",
       "      <td>0.3440</td>\n",
       "    </tr>\n",
       "    <tr>\n",
       "      <th>BYAN</th>\n",
       "      <td>93.170</td>\n",
       "      <td>9.7500</td>\n",
       "    </tr>\n",
       "    <tr>\n",
       "      <th>MEGA</th>\n",
       "      <td>58.260</td>\n",
       "      <td>0.4950</td>\n",
       "    </tr>\n",
       "    <tr>\n",
       "      <th>ITMG</th>\n",
       "      <td>28.050</td>\n",
       "      <td>153.1100</td>\n",
       "    </tr>\n",
       "    <tr>\n",
       "      <th>MLBI</th>\n",
       "      <td>16.860</td>\n",
       "      <td>0.6810</td>\n",
       "    </tr>\n",
       "    <tr>\n",
       "      <th>ICBP</th>\n",
       "      <td>102.920</td>\n",
       "      <td>90.7100</td>\n",
       "    </tr>\n",
       "    <tr>\n",
       "      <th>UNVR</th>\n",
       "      <td>158.320</td>\n",
       "      <td>136.6000</td>\n",
       "    </tr>\n",
       "    <tr>\n",
       "      <th>GGRM</th>\n",
       "      <td>62.770</td>\n",
       "      <td>15.0700</td>\n",
       "    </tr>\n",
       "    <tr>\n",
       "      <th>EDGE</th>\n",
       "      <td>10.470</td>\n",
       "      <td>0.1040</td>\n",
       "    </tr>\n",
       "    <tr>\n",
       "      <th>GEMS</th>\n",
       "      <td>25.410</td>\n",
       "      <td>0.5250</td>\n",
       "    </tr>\n",
       "    <tr>\n",
       "      <th>ARTA</th>\n",
       "      <td>0.725</td>\n",
       "      <td>1.7100</td>\n",
       "    </tr>\n",
       "    <tr>\n",
       "      <th>TINS</th>\n",
       "      <td>11.950</td>\n",
       "      <td>190.1300</td>\n",
       "    </tr>\n",
       "    <tr>\n",
       "      <th>OMRE</th>\n",
       "      <td>1.600</td>\n",
       "      <td>0.0009</td>\n",
       "    </tr>\n",
       "    <tr>\n",
       "      <th>SUPR</th>\n",
       "      <td>16.950</td>\n",
       "      <td>0.6020</td>\n",
       "    </tr>\n",
       "    <tr>\n",
       "      <th>PNSE</th>\n",
       "      <td>0.370</td>\n",
       "      <td>0.0420</td>\n",
       "    </tr>\n",
       "    <tr>\n",
       "      <th>PUDP</th>\n",
       "      <td>0.154</td>\n",
       "      <td>1.2900</td>\n",
       "    </tr>\n",
       "    <tr>\n",
       "      <th>INDF</th>\n",
       "      <td>57.070</td>\n",
       "      <td>60.2900</td>\n",
       "    </tr>\n",
       "    <tr>\n",
       "      <th>SCCO</th>\n",
       "      <td>2.140</td>\n",
       "      <td>0.0060</td>\n",
       "    </tr>\n",
       "    <tr>\n",
       "      <th>ACES</th>\n",
       "      <td>23.580</td>\n",
       "      <td>67.9500</td>\n",
       "    </tr>\n",
       "  </tbody>\n",
       "</table>\n",
       "</div>"
      ],
      "text/plain": [
       "           mcap    tvalue\n",
       "emiten                   \n",
       "DSSA     18.320    0.3440\n",
       "BYAN     93.170    9.7500\n",
       "MEGA     58.260    0.4950\n",
       "ITMG     28.050  153.1100\n",
       "MLBI     16.860    0.6810\n",
       "ICBP    102.920   90.7100\n",
       "UNVR    158.320  136.6000\n",
       "GGRM     62.770   15.0700\n",
       "EDGE     10.470    0.1040\n",
       "GEMS     25.410    0.5250\n",
       "ARTA      0.725    1.7100\n",
       "TINS     11.950  190.1300\n",
       "OMRE      1.600    0.0009\n",
       "SUPR     16.950    0.6020\n",
       "PNSE      0.370    0.0420\n",
       "PUDP      0.154    1.2900\n",
       "INDF     57.070   60.2900\n",
       "SCCO      2.140    0.0060\n",
       "ACES     23.580   67.9500"
      ]
     },
     "execution_count": 198,
     "metadata": {},
     "output_type": "execute_result"
    }
   ],
   "source": [
    "# menyederhakan data set\n",
    "z=df.iloc[0:21,0:4]\n",
    "z"
   ]
  },
  {
   "cell_type": "code",
   "execution_count": 199,
   "metadata": {},
   "outputs": [
    {
     "data": {
      "text/html": [
       "<div>\n",
       "<style scoped>\n",
       "    .dataframe tbody tr th:only-of-type {\n",
       "        vertical-align: middle;\n",
       "    }\n",
       "\n",
       "    .dataframe tbody tr th {\n",
       "        vertical-align: top;\n",
       "    }\n",
       "\n",
       "    .dataframe thead th {\n",
       "        text-align: right;\n",
       "    }\n",
       "</style>\n",
       "<table border=\"1\" class=\"dataframe\">\n",
       "  <thead>\n",
       "    <tr style=\"text-align: right;\">\n",
       "      <th></th>\n",
       "      <th>mcap</th>\n",
       "      <th>tvalue</th>\n",
       "    </tr>\n",
       "  </thead>\n",
       "  <tbody>\n",
       "    <tr>\n",
       "      <th>count</th>\n",
       "      <td>19.000000</td>\n",
       "      <td>19.000000</td>\n",
       "    </tr>\n",
       "    <tr>\n",
       "      <th>mean</th>\n",
       "      <td>36.267842</td>\n",
       "      <td>38.389995</td>\n",
       "    </tr>\n",
       "    <tr>\n",
       "      <th>std</th>\n",
       "      <td>42.878273</td>\n",
       "      <td>61.036524</td>\n",
       "    </tr>\n",
       "    <tr>\n",
       "      <th>min</th>\n",
       "      <td>0.154000</td>\n",
       "      <td>0.000900</td>\n",
       "    </tr>\n",
       "    <tr>\n",
       "      <th>25%</th>\n",
       "      <td>6.305000</td>\n",
       "      <td>0.419500</td>\n",
       "    </tr>\n",
       "    <tr>\n",
       "      <th>50%</th>\n",
       "      <td>18.320000</td>\n",
       "      <td>1.290000</td>\n",
       "    </tr>\n",
       "    <tr>\n",
       "      <th>75%</th>\n",
       "      <td>57.665000</td>\n",
       "      <td>64.120000</td>\n",
       "    </tr>\n",
       "    <tr>\n",
       "      <th>max</th>\n",
       "      <td>158.320000</td>\n",
       "      <td>190.130000</td>\n",
       "    </tr>\n",
       "  </tbody>\n",
       "</table>\n",
       "</div>"
      ],
      "text/plain": [
       "             mcap      tvalue\n",
       "count   19.000000   19.000000\n",
       "mean    36.267842   38.389995\n",
       "std     42.878273   61.036524\n",
       "min      0.154000    0.000900\n",
       "25%      6.305000    0.419500\n",
       "50%     18.320000    1.290000\n",
       "75%     57.665000   64.120000\n",
       "max    158.320000  190.130000"
      ]
     },
     "execution_count": 199,
     "metadata": {},
     "output_type": "execute_result"
    }
   ],
   "source": [
    "z.describe()"
   ]
  },
  {
   "cell_type": "code",
   "execution_count": 200,
   "metadata": {},
   "outputs": [
    {
     "data": {
      "text/plain": [
       "<matplotlib.collections.PathCollection at 0xf977520>"
      ]
     },
     "execution_count": 200,
     "metadata": {},
     "output_type": "execute_result"
    },
    {
     "data": {
      "image/png": "[encoded data removed]",
      "text/plain": [
       "<Figure size 432x288 with 1 Axes>"
      ]
     },
     "metadata": {
      "needs_background": "light"
     },
     "output_type": "display_data"
    }
   ],
   "source": [
    "# menampilkan persebaran data\n",
    "plt.scatter(z['tvalue'],z['mcap'])"
   ]
  },
  {
   "cell_type": "code",
   "execution_count": 201,
   "metadata": {},
   "outputs": [
    {
     "data": {
      "text/plain": [
       "array([0, 0, 0, 1, 0, 1, 1, 0, 0, 0, 0, 1, 0, 0, 0, 0, 0, 0, 0])"
      ]
     },
     "execution_count": 201,
     "metadata": {},
     "output_type": "execute_result"
    }
   ],
   "source": [
    "# menggunakan library sklearn untuk memasukkan metode kmeans\n",
    "km = KMeans(n_clusters=2)\n",
    "y_predicted = km.fit_predict(z[['tvalue','mcap']])\n",
    "y_predicted"
   ]
  },
  {
   "cell_type": "code",
   "execution_count": 202,
   "metadata": {
    "scrolled": false
   },
   "outputs": [
    {
     "data": {
      "text/html": [
       "<div>\n",
       "<style scoped>\n",
       "    .dataframe tbody tr th:only-of-type {\n",
       "        vertical-align: middle;\n",
       "    }\n",
       "\n",
       "    .dataframe tbody tr th {\n",
       "        vertical-align: top;\n",
       "    }\n",
       "\n",
       "    .dataframe thead th {\n",
       "        text-align: right;\n",
       "    }\n",
       "</style>\n",
       "<table border=\"1\" class=\"dataframe\">\n",
       "  <thead>\n",
       "    <tr style=\"text-align: right;\">\n",
       "      <th></th>\n",
       "      <th>mcap</th>\n",
       "      <th>tvalue</th>\n",
       "      <th>cluster</th>\n",
       "    </tr>\n",
       "    <tr>\n",
       "      <th>emiten</th>\n",
       "      <th></th>\n",
       "      <th></th>\n",
       "      <th></th>\n",
       "    </tr>\n",
       "  </thead>\n",
       "  <tbody>\n",
       "    <tr>\n",
       "      <th>DSSA</th>\n",
       "      <td>18.320</td>\n",
       "      <td>0.3440</td>\n",
       "      <td>0</td>\n",
       "    </tr>\n",
       "    <tr>\n",
       "      <th>BYAN</th>\n",
       "      <td>93.170</td>\n",
       "      <td>9.7500</td>\n",
       "      <td>0</td>\n",
       "    </tr>\n",
       "    <tr>\n",
       "      <th>MEGA</th>\n",
       "      <td>58.260</td>\n",
       "      <td>0.4950</td>\n",
       "      <td>0</td>\n",
       "    </tr>\n",
       "    <tr>\n",
       "      <th>ITMG</th>\n",
       "      <td>28.050</td>\n",
       "      <td>153.1100</td>\n",
       "      <td>1</td>\n",
       "    </tr>\n",
       "    <tr>\n",
       "      <th>MLBI</th>\n",
       "      <td>16.860</td>\n",
       "      <td>0.6810</td>\n",
       "      <td>0</td>\n",
       "    </tr>\n",
       "    <tr>\n",
       "      <th>ICBP</th>\n",
       "      <td>102.920</td>\n",
       "      <td>90.7100</td>\n",
       "      <td>1</td>\n",
       "    </tr>\n",
       "    <tr>\n",
       "      <th>UNVR</th>\n",
       "      <td>158.320</td>\n",
       "      <td>136.6000</td>\n",
       "      <td>1</td>\n",
       "    </tr>\n",
       "    <tr>\n",
       "      <th>GGRM</th>\n",
       "      <td>62.770</td>\n",
       "      <td>15.0700</td>\n",
       "      <td>0</td>\n",
       "    </tr>\n",
       "    <tr>\n",
       "      <th>EDGE</th>\n",
       "      <td>10.470</td>\n",
       "      <td>0.1040</td>\n",
       "      <td>0</td>\n",
       "    </tr>\n",
       "    <tr>\n",
       "      <th>GEMS</th>\n",
       "      <td>25.410</td>\n",
       "      <td>0.5250</td>\n",
       "      <td>0</td>\n",
       "    </tr>\n",
       "    <tr>\n",
       "      <th>ARTA</th>\n",
       "      <td>0.725</td>\n",
       "      <td>1.7100</td>\n",
       "      <td>0</td>\n",
       "    </tr>\n",
       "    <tr>\n",
       "      <th>TINS</th>\n",
       "      <td>11.950</td>\n",
       "      <td>190.1300</td>\n",
       "      <td>1</td>\n",
       "    </tr>\n",
       "    <tr>\n",
       "      <th>OMRE</th>\n",
       "      <td>1.600</td>\n",
       "      <td>0.0009</td>\n",
       "      <td>0</td>\n",
       "    </tr>\n",
       "    <tr>\n",
       "      <th>SUPR</th>\n",
       "      <td>16.950</td>\n",
       "      <td>0.6020</td>\n",
       "      <td>0</td>\n",
       "    </tr>\n",
       "    <tr>\n",
       "      <th>PNSE</th>\n",
       "      <td>0.370</td>\n",
       "      <td>0.0420</td>\n",
       "      <td>0</td>\n",
       "    </tr>\n",
       "    <tr>\n",
       "      <th>PUDP</th>\n",
       "      <td>0.154</td>\n",
       "      <td>1.2900</td>\n",
       "      <td>0</td>\n",
       "    </tr>\n",
       "    <tr>\n",
       "      <th>INDF</th>\n",
       "      <td>57.070</td>\n",
       "      <td>60.2900</td>\n",
       "      <td>0</td>\n",
       "    </tr>\n",
       "    <tr>\n",
       "      <th>SCCO</th>\n",
       "      <td>2.140</td>\n",
       "      <td>0.0060</td>\n",
       "      <td>0</td>\n",
       "    </tr>\n",
       "    <tr>\n",
       "      <th>ACES</th>\n",
       "      <td>23.580</td>\n",
       "      <td>67.9500</td>\n",
       "      <td>0</td>\n",
       "    </tr>\n",
       "  </tbody>\n",
       "</table>\n",
       "</div>"
      ],
      "text/plain": [
       "           mcap    tvalue  cluster\n",
       "emiten                            \n",
       "DSSA     18.320    0.3440        0\n",
       "BYAN     93.170    9.7500        0\n",
       "MEGA     58.260    0.4950        0\n",
       "ITMG     28.050  153.1100        1\n",
       "MLBI     16.860    0.6810        0\n",
       "ICBP    102.920   90.7100        1\n",
       "UNVR    158.320  136.6000        1\n",
       "GGRM     62.770   15.0700        0\n",
       "EDGE     10.470    0.1040        0\n",
       "GEMS     25.410    0.5250        0\n",
       "ARTA      0.725    1.7100        0\n",
       "TINS     11.950  190.1300        1\n",
       "OMRE      1.600    0.0009        0\n",
       "SUPR     16.950    0.6020        0\n",
       "PNSE      0.370    0.0420        0\n",
       "PUDP      0.154    1.2900        0\n",
       "INDF     57.070   60.2900        0\n",
       "SCCO      2.140    0.0060        0\n",
       "ACES     23.580   67.9500        0"
      ]
     },
     "execution_count": 202,
     "metadata": {},
     "output_type": "execute_result"
    }
   ],
   "source": [
    "# menampilkan data hasil kmeans dengan terdapat cluster\n",
    "z['cluster'] = y_predicted\n",
    "z"
   ]
  },
  {
   "cell_type": "code",
   "execution_count": 203,
   "metadata": {},
   "outputs": [
    {
     "data": {
      "text/plain": [
       "array([[ 10.59066,  25.8566 ],\n",
       "       [142.6375 ,  75.31   ]])"
      ]
     },
     "execution_count": 203,
     "metadata": {},
     "output_type": "execute_result"
    }
   ],
   "source": [
    "# menampilkan letak centroid\n",
    "km.cluster_centers_"
   ]
  },
  {
   "cell_type": "code",
   "execution_count": 204,
   "metadata": {},
   "outputs": [
    {
     "data": {
      "text/plain": [
       "<matplotlib.legend.Legend at 0xfda6670>"
      ]
     },
     "execution_count": 204,
     "metadata": {},
     "output_type": "execute_result"
    },
    {
     "data": {
      "image/png": "[encoded data removed]",
      "text/plain": [
       "<Figure size 432x288 with 1 Axes>"
      ]
     },
     "metadata": {
      "needs_background": "light"
     },
     "output_type": "display_data"
    }
   ],
   "source": [
    "# menggambar data yang telah selesai menggunakan metode kmeans\n",
    "z1 = z[z.cluster==0]\n",
    "z2 = z[z.cluster==1]\n",
    "\n",
    "plt.scatter(z1.tvalue,z1['mcap'],color='red',label='bukan LQ45')\n",
    "plt.scatter(z2.tvalue,z2['mcap'],color='green',label='merupakan LQ45')\n",
    "plt.scatter(km.cluster_centers_[:,0],km.cluster_centers_[:,1],color='purple',marker='*',label='centroid')\n",
    "\n",
    "plt.xlabel('tvalue')\n",
    "plt.ylabel('mcap')\n",
    "\n",
    "plt.legend()"
   ]
  },
  {
   "cell_type": "code",
   "execution_count": 205,
   "metadata": {},
   "outputs": [
    {
     "data": {
      "text/plain": [
       "[100152.06363833578,\n",
       " 37366.779241876,\n",
       " 21770.053616875997,\n",
       " 10510.113557309,\n",
       " 5630.789203975665,\n",
       " 3043.2631539756662,\n",
       " 2228.417953975667,\n",
       " 1514.937899809,\n",
       " 825.6263866680001,\n",
       " 235.49853666800004,\n",
       " 119.11317416800003,\n",
       " 42.900286118000004,\n",
       " 6.979650701333329,\n",
       " 3.218421004999997,\n",
       " 1.7980248383333328,\n",
       " 0.8084080099999981,\n",
       " 0.3059670099999991,\n",
       " 0.014341000000000074,\n",
       " 0.0]"
      ]
     },
     "execution_count": 205,
     "metadata": {},
     "output_type": "execute_result"
    }
   ],
   "source": [
    "# menampilkan nilai error\n",
    "k_rng = range(1,20)\n",
    "sse = []\n",
    "for k in k_rng:\n",
    "    km = KMeans(n_clusters=k)\n",
    "    km.fit(z[['tvalue','mcap']])\n",
    "    sse.append(km.inertia_)\n",
    "    \n",
    "sse"
   ]
  },
  {
   "cell_type": "code",
   "execution_count": 206,
   "metadata": {},
   "outputs": [
    {
     "data": {
      "text/plain": [
       "[<matplotlib.lines.Line2D at 0xfa44940>]"
      ]
     },
     "execution_count": 206,
     "metadata": {},
     "output_type": "execute_result"
    },
    {
     "data": {
      "image/png": "[encoded data removed]",
      "text/plain": [
       "<Figure size 432x288 with 1 Axes>"
      ]
     },
     "metadata": {
      "needs_background": "light"
     },
     "output_type": "display_data"
    }
   ],
   "source": [
    "plt.xlabel('K')\n",
    "plt.ylabel('Sum of Squared Error')\n",
    "plt.plot(k_rng,sse)"
   ]
  },
  {
   "cell_type": "markdown",
   "metadata": {},
   "source": [
    "Dari hasil didapat bahwa emiten yang masuk kedalam indeks LQ45 adalah ITMG , ICBP, UNVR, dan TINS. \n",
    "Data yang diambil sesuai dengan indeks yang sebenarnya bahwa 4 emiten tersebut memang LQ45, akan tetapi terdapat emiten \n",
    "yang tidak masuk kedalam cluster 1 atau LQ45 pada hasil yaitu emiten GGRM dan INDF yang sebenarnya merupakan LQ45, hal ini meruapakan\n",
    "error yang terjadi karena nilai transaksi pada kedua emien tersebut tidak cukup besar, sehingga oleh machine learning dianggap\n",
    "termasuk cluster 0 atau bkan LQ45."
   ]
  },
  {
   "cell_type": "code",
   "execution_count": null,
   "metadata": {},
   "outputs": [],
   "source": []
  }
 ],
 "metadata": {
  "kernelspec": {
   "display_name": "Python 3",
   "language": "python",
   "name": "python3"
  },
  "language_info": {
   "codemirror_mode": {
    "name": "ipython",
    "version": 3
   },
   "file_extension": ".py",
   "mimetype": "text/x-python",
   "name": "python",
   "nbconvert_exporter": "python",
   "pygments_lexer": "ipython3",
   "version": "3.8.5"
  }
 },
 "nbformat": 4,
 "nbformat_minor": 4
}
